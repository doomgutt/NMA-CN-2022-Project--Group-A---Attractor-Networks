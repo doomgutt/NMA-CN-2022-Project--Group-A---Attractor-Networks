{
 "cells": [
  {
   "cell_type": "code",
   "execution_count": 1,
   "metadata": {},
   "outputs": [],
   "source": [
    "import numpy as np\n",
    "import matplotlib.pyplot as plt\n",
    "# from PIL import Image\n",
    "\n",
    "import hopfield\n",
    "import utilities as uti\n",
    "# import learning_rules as lrn\n",
    "# import activation_functions as afn\n",
    "# from datasets import Dataset_demoletters, Dataset_MNIST, Dataset_Demyan"
   ]
  },
  {
   "cell_type": "code",
   "execution_count": 2,
   "metadata": {},
   "outputs": [
    {
     "data": {
      "image/png": "[encoded data removed]",
      "text/plain": [
       "<Figure size 432x288 with 8 Axes>"
      ]
     },
     "metadata": {
      "needs_background": "light"
     },
     "output_type": "display_data"
    }
   ],
   "source": [
    "# Generate white noise samples\n",
    "\n",
    "alphabet_len = 8\n",
    "im_size = (9, 9)\n",
    "np.random.seed(42)\n",
    "\n",
    "white_noise_dataset = np.random.randint(0, 2, \n",
    "                                        size=(alphabet_len, im_size[0] * im_size[1]), \n",
    "                                        dtype='int') * 2 - 1\n",
    "\n",
    "noized_dataset = uti.noisify_dataset(white_noise_dataset)\n",
    "\n",
    "for i in range(alphabet_len):\n",
    "    ax = plt.subplot(1, alphabet_len, i + 1)\n",
    "    uti.show_letter(white_noise_dataset[i], ax)\n"
   ]
  },
  {
   "cell_type": "code",
   "execution_count": 15,
   "metadata": {},
   "outputs": [
    {
     "name": "stdout",
     "output_type": "stream",
     "text": [
      "[True, True, True, True, True, True, True, True]\n"
     ]
    },
    {
     "data": {
      "image/png": "[encoded data removed]",
      "text/plain": [
       "<Figure size 432x288 with 24 Axes>"
      ]
     },
     "metadata": {
      "needs_background": "light"
     },
     "output_type": "display_data"
    }
   ],
   "source": [
    "hop_net = hopfield.HopfieldNetwork()\n",
    "pm = hop_net.run(white_noise_dataset,\n",
    "                iterations=1000, \n",
    "                noise_level=0.5, \n",
    "                n_test_samples=alphabet_len,\n",
    "                lr=\"hebbian\", \n",
    "                af=\"sync_tanh\")"
   ]
  },
  {
   "cell_type": "code",
   "execution_count": 16,
   "metadata": {},
   "outputs": [
    {
     "data": {
      "text/plain": [
       "<matplotlib.legend.Legend at 0x7fba17c0f1c0>"
      ]
     },
     "execution_count": 16,
     "metadata": {},
     "output_type": "execute_result"
    },
    {
     "data": {
      "image/png": "[encoded data removed]",
      "text/plain": [
       "<Figure size 720x720 with 1 Axes>"
      ]
     },
     "metadata": {
      "needs_background": "light"
     },
     "output_type": "display_data"
    }
   ],
   "source": [
    "fig, axs = plt.subplots(1, 1, figsize=(10, 10))\n",
    "\n",
    "for i, energy in enumerate(pm.sequence_energy):\n",
    "    energy_states = energy[:1000]\n",
    "\n",
    "    # ax energy accuracy\n",
    "    ax_energy_time = axs\n",
    "    ax_energy_time.plot(range(len(energy_states)), energy_states, label=f\"{i}\")\n",
    "plt.legend()\n",
    "# ax_energy_time.set_xlabel(\"Mean energy\")\n",
    "# ax_energy_time.set_ylabel(\"Mean Timestamp\")\n",
    "# ax_energy_time.set_title(\"Mean energy v.s. Mean Timestamp\")"
   ]
  },
  {
   "cell_type": "code",
   "execution_count": 17,
   "metadata": {},
   "outputs": [],
   "source": [
    "# pms = [pm]\n",
    "# neurons = [28 * 28]\n",
    "# fig, axs = plt.subplots(2, 2, figsize=(10, 10))\n",
    "# # 1\n",
    "# ax_num_acc = axs[0][0]\n",
    "# ax_num_acc.plot(neurons, [np.mean(pm.is_correct) for pm in pms])\n",
    "# ax_num_acc.set_xlabel('#Neurons')\n",
    "# ax_num_acc.set_ylabel(\"Accuracy\")\n",
    "# ax_num_acc.set_xticks(neurons)\n",
    "# ax_num_acc.set_title(f\"#Neuron v.s. Accuracy (#trial = {n_test_samples}, #input_sample={ninput})\")\n",
    "\n",
    "\n",
    "# # ax timestep accuracy\n",
    "# ax_time_acc = axs[0][1]\n",
    "# ax_time_acc.scatter([np.mean(pm.time) for pm in pms], [np.mean(pm.is_correct) for pm in pms])\n",
    "# ax_time_acc.set_xlabel(f\"Mean timestamp on {n_test_samples} trials\")\n",
    "# ax_time_acc.set_ylabel(\"Accuracy\")\n",
    "# ax_time_acc.set_title(\"Mean timestamp v.s. Accuracy\")\n",
    "\n",
    "# # ax energy accuracy\n",
    "# ax_energy_acc = axs[1][0]\n",
    "# ax_energy_acc.scatter([np.mean(pm.energy) for pm in pms], [np.mean(pm.is_correct) for pm in pms])\n",
    "# ax_energy_acc.set_xlabel(f\"Mean energy on {n_test_samples} trials\")\n",
    "# ax_energy_acc.set_ylabel(\"Accuracy\")\n",
    "# ax_energy_acc.set_title(\"Mean energy v.s. Accuracy\")\n",
    "\n",
    "# # ax energy accuracy\n",
    "# ax_energy_time = axs[1][1]\n",
    "# ax_energy_time.scatter([np.mean(pm.energy) for pm in pms], [np.mean(pm.time) for pm in pms])\n",
    "# ax_energy_time.set_xlabel(\"Mean energy\")\n",
    "# ax_energy_time.set_ylabel(\"Mean Timestamp\")\n",
    "# ax_energy_time.set_title(\"Mean energy v.s. Mean Timestamp\")\n"
   ]
  }
 ],
 "metadata": {
  "kernelspec": {
   "display_name": "Python 3.8.5 ('base')",
   "language": "python",
   "name": "python3"
  },
  "language_info": {
   "codemirror_mode": {
    "name": "ipython",
    "version": 3
   },
   "file_extension": ".py",
   "mimetype": "text/x-python",
   "name": "python",
   "nbconvert_exporter": "python",
   "pygments_lexer": "ipython3",
   "version": "3.8.5"
  },
  "orig_nbformat": 4,
  "vscode": {
   "interpreter": {
    "hash": "1d1026617dd78001c52a204c5cd2cde2efafd1a3b285591fb0f82885a58dba3b"
   }
  }
 },
 "nbformat": 4,
 "nbformat_minor": 2
}
