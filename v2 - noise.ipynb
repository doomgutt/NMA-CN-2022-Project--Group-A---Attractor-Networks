{
 "cells": [
  {
   "cell_type": "code",
   "execution_count": null,
   "metadata": {},
   "outputs": [],
   "source": [
    "import numpy as np\n",
    "import matplotlib.pyplot as plt\n",
    "import pandas as pd\n",
    "# from PIL import Image\n",
    "\n",
    "import hopfield\n",
    "import utilities as uti\n",
    "import learning_rules as lrn\n",
    "import activation_functions as afn\n",
    "from datasets import Dataset_demoletters, Dataset_MNIST, Dataset_Demyan, Dataset_whitenoise"
   ]
  },
  {
   "cell_type": "code",
   "execution_count": null,
   "metadata": {},
   "outputs": [],
   "source": [
    "# Generate white noise samples\n",
    "\n",
    "np.random.seed(42)\n",
    "alphabet_len = 9\n",
    "side_len = 6\n",
    "white_noise_dataset = Dataset_whitenoise(alphabet_len = alphabet_len, side_len = side_len).get_data()\n",
    "\n",
    "for i in range(alphabet_len):\n",
    "    ax = plt.subplot(1, alphabet_len, i + 1)\n",
    "    uti.show_letter(white_noise_dataset[i], ax)\n"
   ]
  },
  {
   "cell_type": "code",
   "execution_count": null,
   "metadata": {},
   "outputs": [],
   "source": [
    "hop_net = hopfield.HopfieldNetwork()\n",
    "pm = hop_net.run(white_noise_dataset, iterations=1000, lr=\"hebbian\",af=\"async_tanh\", need_plot = True)\n",
    "# print(pm)"
   ]
  },
  {
   "cell_type": "markdown",
   "metadata": {},
   "source": [
    "# 1.experiments: same side_len, accuracy, mean error"
   ]
  },
  {
   "cell_type": "code",
   "execution_count": null,
   "metadata": {},
   "outputs": [],
   "source": [
    "result_records = []\n",
    "error_result = {}\n",
    "for side_len in range(3, 10):\n",
    "    for alphabet_len in range(4, 40, 4):\n",
    "        white_noise_dataset = Dataset_whitenoise(alphabet_len = alphabet_len, side_len = side_len).get_data()\n",
    "        hop_net = hopfield.HopfieldNetwork()\n",
    "        pm = hop_net.run(white_noise_dataset, iterations=1000, lr=\"hebbian\",af=\"async_tanh\")\n",
    "        print(side_len, alphabet_len, np.mean(pm.is_correct))\n",
    "        record = {\n",
    "            'side_len':side_len,\n",
    "            'alphabet_len':alphabet_len,\n",
    "            'accuracy':np.mean(pm.is_correct),\n",
    "            'mean error':np.mean(pm.error),\n",
    "            'mean timestamp':np.mean(pm.timestamp),\n",
    "            'mean energy':np.mean(pm.process_energy)\n",
    "        }\n",
    "        result_records.append(record)\n",
    "        # accuracy_result[(side_len, alphabet_len)] = \n",
    "        # error_result[(side_len, alphabet_len)] = np.mean(pm.timestamp)"
   ]
  },
  {
   "cell_type": "code",
   "execution_count": null,
   "metadata": {},
   "outputs": [],
   "source": [
    "df = pd.DataFrame.from_records(result_records)\n",
    "df.head()"
   ]
  },
  {
   "cell_type": "code",
   "execution_count": null,
   "metadata": {},
   "outputs": [],
   "source": [
    "fig, axs = plt.subplots(1, 1, figsize=(10, 10))\n",
    "\n",
    "for side_len in df['side_len'].unique():\n",
    "    df_now = df[df['side_len'] == side_len]\n",
    "    plt.plot(df_now['alphabet_len'], df_now['accuracy'], label = f'#neurons = {side_len * side_len}')\n",
    "plt.xlabel(\"#Input_Images\")\n",
    "plt.ylabel(\"Accuracy\")\n",
    "plt.title(\"Accuracy v.s. #Neurons and #Input_Images\")\n",
    "plt.legend()\n",
    "\n",
    "# energy_states = hop_net.sequence_energy(\"se_lin\")\n",
    "# energy_states = energy_states[:40]\n",
    "\n",
    "# # ax energy accuracy\n",
    "# ax_energy_time = axs\n",
    "# ax_energy_time.scatter(range(len(energy_states)), energy_states)\n",
    "# ax_energy_time.set_xlabel(\"Mean energy\")\n",
    "# ax_energy_time.set_ylabel(\"Mean Timestamp\")\n",
    "# ax_energy_time.set_title(\"Mean energy v.s. Mean Timestamp\")"
   ]
  },
  {
   "cell_type": "code",
   "execution_count": null,
   "metadata": {},
   "outputs": [],
   "source": [
    "fig, axs = plt.subplots(2, 2, figsize=(20, 20))\n",
    "ax_acc = axs[0][0]\n",
    "ax_energy = axs[0][1]\n",
    "ax_time = axs[1][0]\n",
    "ax_energy_vs_time = axs[1][1]\n",
    "\n",
    "for side_len in df['side_len'].unique():\n",
    "    df_now = df[df['side_len'] == side_len]\n",
    "    ax_acc.plot(df_now['alphabet_len'], df_now['accuracy'], label = f'#neurons = {side_len * side_len}')\n",
    "    ax_time.scatter(df_now['mean timestamp'], df_now[\"accuracy\"])\n",
    "    ax_energy.scatter(df_now['mean energy'], df_now['accuracy'])\n",
    "    ax_energy_vs_time.scatter(df_now['mean energy'], df_now['mean timestamp'])\n",
    "\n",
    "ax_acc.set_xlabel(\"#Input_Images\")\n",
    "ax_acc.set_ylabel(\"Accuracy\")\n",
    "ax_acc.set_title(\"Accuracy v.s. #Neurons and #Input_Images\")\n",
    "ax_acc.legend()\n",
    "\n",
    "ax_energy.set_xlabel(\"Energy\")\n",
    "ax_energy.set_ylabel(\"Accuracy\")\n",
    "ax_energy.set_title(\"Accuracy v.s. Energy\")\n",
    "\n",
    "ax_time.set_xlabel(\"Mean Timestamp\")\n",
    "ax_time.set_ylabel(\"Accuracy\")\n",
    "ax_time.set_title(\"Accuracy v.s. Time\")\n",
    "\n",
    "ax_energy_vs_time.set_xlabel(\"Energy\")\n",
    "ax_energy_vs_time.set_ylabel(\"Timestamp\")\n",
    "ax_energy_vs_time.set_title(\"Time v.s. Energy\")"
   ]
  },
  {
   "cell_type": "code",
   "execution_count": null,
   "metadata": {},
   "outputs": [],
   "source": [
    "# pms = [pm]\n",
    "# neurons = [28 * 28]\n",
    "# fig, axs = plt.subplots(2, 2, figsize=(10, 10))\n",
    "# # 1\n",
    "# ax_num_acc = axs[0][0]\n",
    "# ax_num_acc.plot(neurons, [np.mean(pm.is_correct) for pm in pms])\n",
    "# ax_num_acc.set_xlabel('#Neurons')\n",
    "# ax_num_acc.set_ylabel(\"Accuracy\")\n",
    "# ax_num_acc.set_xticks(neurons)\n",
    "# ax_num_acc.set_title(f\"#Neuron v.s. Accuracy (#trial = {n_test_samples}, #input_sample={ninput})\")\n",
    "\n",
    "\n",
    "# # ax timestep accuracy\n",
    "# ax_time_acc = axs[0][1]\n",
    "# ax_time_acc.scatter([np.mean(pm.time) for pm in pms], [np.mean(pm.is_correct) for pm in pms])\n",
    "# ax_time_acc.set_xlabel(f\"Mean timestamp on {n_test_samples} trials\")\n",
    "# ax_time_acc.set_ylabel(\"Accuracy\")\n",
    "# ax_time_acc.set_title(\"Mean timestamp v.s. Accuracy\")\n",
    "\n",
    "# # ax energy accuracy\n",
    "# ax_energy_acc = axs[1][0]\n",
    "# ax_energy_acc.scatter([np.mean(pm.energy) for pm in pms], [np.mean(pm.is_correct) for pm in pms])\n",
    "# ax_energy_acc.set_xlabel(f\"Mean energy on {n_test_samples} trials\")\n",
    "# ax_energy_acc.set_ylabel(\"Accuracy\")\n",
    "# ax_energy_acc.set_title(\"Mean energy v.s. Accuracy\")\n",
    "\n",
    "# # ax energy accuracy\n",
    "# ax_energy_time = axs[1][1]\n",
    "# ax_energy_time.scatter([np.mean(pm.energy) for pm in pms], [np.mean(pm.time) for pm in pms])\n",
    "# ax_energy_time.set_xlabel(\"Mean energy\")\n",
    "# ax_energy_time.set_ylabel(\"Mean Timestamp\")\n",
    "# ax_energy_time.set_title(\"Mean energy v.s. Mean Timestamp\")\n"
   ]
  }
 ],
 "metadata": {
  "kernelspec": {
   "display_name": "Python 3.9.7 ('base')",
   "language": "python",
   "name": "python3"
  },
  "language_info": {
   "codemirror_mode": {
    "name": "ipython",
    "version": 3
   },
   "file_extension": ".py",
   "mimetype": "text/x-python",
   "name": "python",
   "nbconvert_exporter": "python",
   "pygments_lexer": "ipython3",
   "version": "3.9.7"
  },
  "orig_nbformat": 4,
  "vscode": {
   "interpreter": {
    "hash": "aa2b5c7126f14311e5ea3c116b36085d58ed16634b495bc139c4fd8f8e5d3527"
   }
  }
 },
 "nbformat": 4,
 "nbformat_minor": 2
}
