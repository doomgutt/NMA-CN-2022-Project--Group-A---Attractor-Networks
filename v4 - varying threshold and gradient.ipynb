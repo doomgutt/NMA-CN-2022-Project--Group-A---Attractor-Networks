{
 "cells": [
  {
   "cell_type": "code",
   "execution_count": null,
   "metadata": {},
   "outputs": [],
   "source": [
    "import numpy as np\n",
    "import matplotlib.pyplot as plt\n",
    "# from PIL import Image\n",
    "import pandas as pd\n",
    "import hopfield\n",
    "import utilities as uti\n",
    "# import learning_rules as lrn\n",
    "# import activation_functions as afn\n",
    "# from datasets import Dataset_demoletters, Dataset_MNIST, Dataset_Demyan"
   ]
  },
  {
   "cell_type": "code",
   "execution_count": null,
   "metadata": {},
   "outputs": [],
   "source": [
    "from tqdm import tqdm\n",
    "\n",
    "hop_net = hopfield.HopfieldNetwork()\n",
    "\n",
    "# ~5m for 300\n",
    "net_size = 100\n",
    "img_N = 7\n",
    "\n",
    "step_size = 20\n",
    "thresholds = np.linspace(-3,3,step_size)\n",
    "gradients = np.exp(np.linspace(-5, 5, step_size))\n",
    "\n",
    "DATA = [[] for x in gradients]\n",
    "for i, grad in enumerate(tqdm(gradients)):\n",
    "    for thresh in thresholds:\n",
    "        params = (grad, thresh)\n",
    "        white_noise_dataset = np.random.randint(0, 2, size=(img_N, net_size), dtype='int') * 2 - 1\n",
    "        DATA[i].append(hop_net.run(white_noise_dataset, \n",
    "                                    iterations=1000,\n",
    "                                    params=params,\n",
    "                                    lr=\"hebbian\", af=\"async_tanh\",\n",
    "                                    noise_level=.0,\n",
    "                                    print_info=False))\n"
   ]
  },
  {
   "cell_type": "code",
   "execution_count": null,
   "metadata": {},
   "outputs": [],
   "source": [
    "fig, axs = plt.subplots(1, 1, figsize=(10, 10))\n",
    "plot_X = gradients\n",
    "plot_Y = thresholds\n",
    "\n",
    "for i, grad in enumerate(gradients):\n",
    "    errors = []\n",
    "    for j, thresh in enumerate(thresholds):\n",
    "        pm = DATA[i][j]\n",
    "        error = 1 - np.mean(np.array(pm.error))\n",
    "        errors.append(error)\n",
    "\n",
    "    plot_Z = errors\n",
    "    # I DONT KNOW WTF IM DOING HELP\n",
    "    axs.plot(gradients, errors)\n",
    "plt.legend()\n"
   ]
  }
 ],
 "metadata": {
  "kernelspec": {
   "display_name": "Python 3.8.5 ('base')",
   "language": "python",
   "name": "python3"
  },
  "language_info": {
   "codemirror_mode": {
    "name": "ipython",
    "version": 3
   },
   "file_extension": ".py",
   "mimetype": "text/x-python",
   "name": "python",
   "nbconvert_exporter": "python",
   "pygments_lexer": "ipython3",
   "version": "3.8.5"
  },
  "orig_nbformat": 4,
  "vscode": {
   "interpreter": {
    "hash": "1d1026617dd78001c52a204c5cd2cde2efafd1a3b285591fb0f82885a58dba3b"
   }
  }
 },
 "nbformat": 4,
 "nbformat_minor": 2
}
